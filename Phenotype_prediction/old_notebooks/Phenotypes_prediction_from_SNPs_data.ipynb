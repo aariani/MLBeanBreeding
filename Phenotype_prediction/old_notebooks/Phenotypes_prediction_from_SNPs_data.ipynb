{
 "cells": [
  {
   "cell_type": "markdown",
   "metadata": {
    "collapsed": true
   },
   "source": [
    "# Phenotypes prediction from SNPs data\n",
    "\n",
    "The dataset contains a set of SNPs (coded as -1/0/1) and a set of phenotypes averaged across locations for a Mesoamerican Diversity Panel (MDP) data of common bean. The SNPs data were converted in a hdf5 format for making the File I/O faster"
   ]
  },
  {
   "cell_type": "code",
   "execution_count": 1,
   "metadata": {
    "collapsed": true
   },
   "outputs": [],
   "source": [
    "%matplotlib inline\n",
    "import pandas as pd\n",
    "import numpy as np\n",
    "import matplotlib.pyplot as plt\n",
    "from sklearn.metrics import mean_absolute_error\n",
    "from sklearn.metrics import r2_score\n",
    "from scipy.stats import pearsonr"
   ]
  },
  {
   "cell_type": "code",
   "execution_count": 2,
   "metadata": {},
   "outputs": [
    {
     "data": {
      "text/html": [
       "<div>\n",
       "<table border=\"1\" class=\"dataframe\">\n",
       "  <thead>\n",
       "    <tr style=\"text-align: right;\">\n",
       "      <th></th>\n",
       "      <th>Chr01_97670</th>\n",
       "      <th>Chr01_97701</th>\n",
       "      <th>Chr01_97716</th>\n",
       "      <th>Chr01_97721</th>\n",
       "      <th>Chr01_97808</th>\n",
       "      <th>Chr01_98768</th>\n",
       "      <th>Chr01_98935</th>\n",
       "      <th>Chr01_99285</th>\n",
       "      <th>Chr01_103581</th>\n",
       "      <th>Chr01_103625</th>\n",
       "      <th>...</th>\n",
       "      <th>sc09737ln2051_933_A_G_469467397</th>\n",
       "      <th>sc09754ln2049_872_A_C_469502176</th>\n",
       "      <th>sc09833ln2034_1171_G_A_469663747</th>\n",
       "      <th>sc09833ln2034_399_C_T_469662975</th>\n",
       "      <th>sc09867ln2028_610_C_T_469732277</th>\n",
       "      <th>sc09915ln2022_1787_A_G_469830647</th>\n",
       "      <th>sc09947ln2017_1192_A_G_469894659</th>\n",
       "      <th>sc10003ln2009_1678_C_A_470007833</th>\n",
       "      <th>sc10021ln2001_533_T_C_470042786</th>\n",
       "      <th>sc10022ln2002_1089_C_T_470045343</th>\n",
       "    </tr>\n",
       "  </thead>\n",
       "  <tbody>\n",
       "    <tr>\n",
       "      <th>0</th>\n",
       "      <td>-1</td>\n",
       "      <td>-1</td>\n",
       "      <td>-1</td>\n",
       "      <td>-1</td>\n",
       "      <td>-1</td>\n",
       "      <td>1</td>\n",
       "      <td>1</td>\n",
       "      <td>1</td>\n",
       "      <td>-1</td>\n",
       "      <td>1</td>\n",
       "      <td>...</td>\n",
       "      <td>1</td>\n",
       "      <td>-1</td>\n",
       "      <td>-1</td>\n",
       "      <td>-1</td>\n",
       "      <td>1</td>\n",
       "      <td>1</td>\n",
       "      <td>-1</td>\n",
       "      <td>-1</td>\n",
       "      <td>-1</td>\n",
       "      <td>1</td>\n",
       "    </tr>\n",
       "    <tr>\n",
       "      <th>1</th>\n",
       "      <td>-1</td>\n",
       "      <td>-1</td>\n",
       "      <td>-1</td>\n",
       "      <td>-1</td>\n",
       "      <td>-1</td>\n",
       "      <td>1</td>\n",
       "      <td>1</td>\n",
       "      <td>1</td>\n",
       "      <td>-1</td>\n",
       "      <td>1</td>\n",
       "      <td>...</td>\n",
       "      <td>1</td>\n",
       "      <td>-1</td>\n",
       "      <td>-1</td>\n",
       "      <td>-1</td>\n",
       "      <td>1</td>\n",
       "      <td>1</td>\n",
       "      <td>-1</td>\n",
       "      <td>-1</td>\n",
       "      <td>-1</td>\n",
       "      <td>1</td>\n",
       "    </tr>\n",
       "    <tr>\n",
       "      <th>2</th>\n",
       "      <td>-1</td>\n",
       "      <td>-1</td>\n",
       "      <td>-1</td>\n",
       "      <td>-1</td>\n",
       "      <td>-1</td>\n",
       "      <td>1</td>\n",
       "      <td>1</td>\n",
       "      <td>1</td>\n",
       "      <td>-1</td>\n",
       "      <td>1</td>\n",
       "      <td>...</td>\n",
       "      <td>1</td>\n",
       "      <td>-1</td>\n",
       "      <td>-1</td>\n",
       "      <td>-1</td>\n",
       "      <td>1</td>\n",
       "      <td>-1</td>\n",
       "      <td>1</td>\n",
       "      <td>-1</td>\n",
       "      <td>-1</td>\n",
       "      <td>1</td>\n",
       "    </tr>\n",
       "    <tr>\n",
       "      <th>3</th>\n",
       "      <td>-1</td>\n",
       "      <td>-1</td>\n",
       "      <td>-1</td>\n",
       "      <td>-1</td>\n",
       "      <td>-1</td>\n",
       "      <td>1</td>\n",
       "      <td>1</td>\n",
       "      <td>1</td>\n",
       "      <td>-1</td>\n",
       "      <td>-1</td>\n",
       "      <td>...</td>\n",
       "      <td>1</td>\n",
       "      <td>-1</td>\n",
       "      <td>1</td>\n",
       "      <td>1</td>\n",
       "      <td>1</td>\n",
       "      <td>1</td>\n",
       "      <td>-1</td>\n",
       "      <td>-1</td>\n",
       "      <td>1</td>\n",
       "      <td>1</td>\n",
       "    </tr>\n",
       "    <tr>\n",
       "      <th>4</th>\n",
       "      <td>-1</td>\n",
       "      <td>-1</td>\n",
       "      <td>-1</td>\n",
       "      <td>-1</td>\n",
       "      <td>-1</td>\n",
       "      <td>1</td>\n",
       "      <td>1</td>\n",
       "      <td>-1</td>\n",
       "      <td>-1</td>\n",
       "      <td>1</td>\n",
       "      <td>...</td>\n",
       "      <td>1</td>\n",
       "      <td>-1</td>\n",
       "      <td>-1</td>\n",
       "      <td>-1</td>\n",
       "      <td>1</td>\n",
       "      <td>-1</td>\n",
       "      <td>-1</td>\n",
       "      <td>-1</td>\n",
       "      <td>-1</td>\n",
       "      <td>1</td>\n",
       "    </tr>\n",
       "  </tbody>\n",
       "</table>\n",
       "<p>5 rows × 243623 columns</p>\n",
       "</div>"
      ],
      "text/plain": [
       "   Chr01_97670  Chr01_97701  Chr01_97716  Chr01_97721  Chr01_97808  \\\n",
       "0           -1           -1           -1           -1           -1   \n",
       "1           -1           -1           -1           -1           -1   \n",
       "2           -1           -1           -1           -1           -1   \n",
       "3           -1           -1           -1           -1           -1   \n",
       "4           -1           -1           -1           -1           -1   \n",
       "\n",
       "   Chr01_98768  Chr01_98935  Chr01_99285  Chr01_103581  Chr01_103625  \\\n",
       "0            1            1            1            -1             1   \n",
       "1            1            1            1            -1             1   \n",
       "2            1            1            1            -1             1   \n",
       "3            1            1            1            -1            -1   \n",
       "4            1            1           -1            -1             1   \n",
       "\n",
       "                 ...                 sc09737ln2051_933_A_G_469467397  \\\n",
       "0                ...                                               1   \n",
       "1                ...                                               1   \n",
       "2                ...                                               1   \n",
       "3                ...                                               1   \n",
       "4                ...                                               1   \n",
       "\n",
       "   sc09754ln2049_872_A_C_469502176  sc09833ln2034_1171_G_A_469663747  \\\n",
       "0                               -1                                -1   \n",
       "1                               -1                                -1   \n",
       "2                               -1                                -1   \n",
       "3                               -1                                 1   \n",
       "4                               -1                                -1   \n",
       "\n",
       "   sc09833ln2034_399_C_T_469662975  sc09867ln2028_610_C_T_469732277  \\\n",
       "0                               -1                                1   \n",
       "1                               -1                                1   \n",
       "2                               -1                                1   \n",
       "3                                1                                1   \n",
       "4                               -1                                1   \n",
       "\n",
       "   sc09915ln2022_1787_A_G_469830647  sc09947ln2017_1192_A_G_469894659  \\\n",
       "0                                 1                                -1   \n",
       "1                                 1                                -1   \n",
       "2                                -1                                 1   \n",
       "3                                 1                                -1   \n",
       "4                                -1                                -1   \n",
       "\n",
       "   sc10003ln2009_1678_C_A_470007833  sc10021ln2001_533_T_C_470042786  \\\n",
       "0                                -1                               -1   \n",
       "1                                -1                               -1   \n",
       "2                                -1                               -1   \n",
       "3                                -1                                1   \n",
       "4                                -1                               -1   \n",
       "\n",
       "   sc10022ln2002_1089_C_T_470045343  \n",
       "0                                 1  \n",
       "1                                 1  \n",
       "2                                 1  \n",
       "3                                 1  \n",
       "4                                 1  \n",
       "\n",
       "[5 rows x 243623 columns]"
      ]
     },
     "execution_count": 2,
     "metadata": {},
     "output_type": "execute_result"
    }
   ],
   "source": [
    "# read genotype data\n",
    "final_SNPs = pd.read_hdf('data/BeanCAP_MDP_genotype_data.hdf5', 'snptable')\n",
    "final_SNPs.head()"
   ]
  },
  {
   "cell_type": "code",
   "execution_count": 3,
   "metadata": {},
   "outputs": [
    {
     "data": {
      "text/html": [
       "<div>\n",
       "<table border=\"1\" class=\"dataframe\">\n",
       "  <thead>\n",
       "    <tr style=\"text-align: right;\">\n",
       "      <th></th>\n",
       "      <th>supop</th>\n",
       "      <th>market_class</th>\n",
       "      <th>taxa</th>\n",
       "      <th>df_co</th>\n",
       "      <th>dm_co</th>\n",
       "      <th>ch_co</th>\n",
       "      <th>lg_co</th>\n",
       "      <th>gh_co</th>\n",
       "      <th>sw_co</th>\n",
       "      <th>df_mi</th>\n",
       "      <th>...</th>\n",
       "      <th>dm_ne</th>\n",
       "      <th>ch_ne</th>\n",
       "      <th>lg_ne</th>\n",
       "      <th>sw_ne</th>\n",
       "      <th>df</th>\n",
       "      <th>dm</th>\n",
       "      <th>ch</th>\n",
       "      <th>lg</th>\n",
       "      <th>gh</th>\n",
       "      <th>sw</th>\n",
       "    </tr>\n",
       "  </thead>\n",
       "  <tbody>\n",
       "    <tr>\n",
       "      <th>0</th>\n",
       "      <td>MA</td>\n",
       "      <td>black</td>\n",
       "      <td>115m</td>\n",
       "      <td>49</td>\n",
       "      <td>92</td>\n",
       "      <td>50</td>\n",
       "      <td>4</td>\n",
       "      <td>2</td>\n",
       "      <td>20.0</td>\n",
       "      <td>41</td>\n",
       "      <td>...</td>\n",
       "      <td>96</td>\n",
       "      <td>41</td>\n",
       "      <td>4</td>\n",
       "      <td>20.5</td>\n",
       "      <td>49</td>\n",
       "      <td>102</td>\n",
       "      <td>45</td>\n",
       "      <td>3.67</td>\n",
       "      <td>2.5</td>\n",
       "      <td>21.5</td>\n",
       "    </tr>\n",
       "    <tr>\n",
       "      <th>1</th>\n",
       "      <td>DJ</td>\n",
       "      <td>pink</td>\n",
       "      <td>6r_42</td>\n",
       "      <td>46</td>\n",
       "      <td>90</td>\n",
       "      <td>41</td>\n",
       "      <td>5</td>\n",
       "      <td>3</td>\n",
       "      <td>29.9</td>\n",
       "      <td>38</td>\n",
       "      <td>...</td>\n",
       "      <td>101</td>\n",
       "      <td>40</td>\n",
       "      <td>5</td>\n",
       "      <td>30.5</td>\n",
       "      <td>47</td>\n",
       "      <td>103</td>\n",
       "      <td>37</td>\n",
       "      <td>5.00</td>\n",
       "      <td>3.0</td>\n",
       "      <td>32.3</td>\n",
       "    </tr>\n",
       "    <tr>\n",
       "      <th>2</th>\n",
       "      <td>MA</td>\n",
       "      <td>black</td>\n",
       "      <td>92bg_7</td>\n",
       "      <td>49</td>\n",
       "      <td>87</td>\n",
       "      <td>48</td>\n",
       "      <td>3</td>\n",
       "      <td>3</td>\n",
       "      <td>22.8</td>\n",
       "      <td>44</td>\n",
       "      <td>...</td>\n",
       "      <td>79</td>\n",
       "      <td>33</td>\n",
       "      <td>2</td>\n",
       "      <td>21.7</td>\n",
       "      <td>50</td>\n",
       "      <td>92</td>\n",
       "      <td>39</td>\n",
       "      <td>2.33</td>\n",
       "      <td>2.5</td>\n",
       "      <td>21.7</td>\n",
       "    </tr>\n",
       "    <tr>\n",
       "      <th>3</th>\n",
       "      <td>DJ</td>\n",
       "      <td>pinto</td>\n",
       "      <td>92us_1006</td>\n",
       "      <td>46</td>\n",
       "      <td>82</td>\n",
       "      <td>45</td>\n",
       "      <td>1</td>\n",
       "      <td>2</td>\n",
       "      <td>30.3</td>\n",
       "      <td>38</td>\n",
       "      <td>...</td>\n",
       "      <td>78</td>\n",
       "      <td>45</td>\n",
       "      <td>1</td>\n",
       "      <td>29.2</td>\n",
       "      <td>45</td>\n",
       "      <td>90</td>\n",
       "      <td>43</td>\n",
       "      <td>1.33</td>\n",
       "      <td>2.0</td>\n",
       "      <td>31.3</td>\n",
       "    </tr>\n",
       "    <tr>\n",
       "      <th>4</th>\n",
       "      <td>MA</td>\n",
       "      <td>cream_caroca</td>\n",
       "      <td>a_285</td>\n",
       "      <td>51</td>\n",
       "      <td>94</td>\n",
       "      <td>55</td>\n",
       "      <td>3</td>\n",
       "      <td>3</td>\n",
       "      <td>22.2</td>\n",
       "      <td>45</td>\n",
       "      <td>...</td>\n",
       "      <td>95</td>\n",
       "      <td>40</td>\n",
       "      <td>3</td>\n",
       "      <td>20.9</td>\n",
       "      <td>52</td>\n",
       "      <td>103</td>\n",
       "      <td>48</td>\n",
       "      <td>3.00</td>\n",
       "      <td>2.5</td>\n",
       "      <td>23.1</td>\n",
       "    </tr>\n",
       "  </tbody>\n",
       "</table>\n",
       "<p>5 rows × 30 columns</p>\n",
       "</div>"
      ],
      "text/plain": [
       "  supop  market_class       taxa  df_co  dm_co  ch_co  lg_co  gh_co  sw_co  \\\n",
       "0    MA         black       115m     49     92     50      4      2   20.0   \n",
       "1    DJ          pink      6r_42     46     90     41      5      3   29.9   \n",
       "2    MA         black     92bg_7     49     87     48      3      3   22.8   \n",
       "3    DJ         pinto  92us_1006     46     82     45      1      2   30.3   \n",
       "4    MA  cream_caroca      a_285     51     94     55      3      3   22.2   \n",
       "\n",
       "   df_mi  ...   dm_ne  ch_ne  lg_ne  sw_ne  df   dm  ch    lg   gh    sw  \n",
       "0     41  ...      96     41      4   20.5  49  102  45  3.67  2.5  21.5  \n",
       "1     38  ...     101     40      5   30.5  47  103  37  5.00  3.0  32.3  \n",
       "2     44  ...      79     33      2   21.7  50   92  39  2.33  2.5  21.7  \n",
       "3     38  ...      78     45      1   29.2  45   90  43  1.33  2.0  31.3  \n",
       "4     45  ...      95     40      3   20.9  52  103  48  3.00  2.5  23.1  \n",
       "\n",
       "[5 rows x 30 columns]"
      ]
     },
     "execution_count": 3,
     "metadata": {},
     "output_type": "execute_result"
    }
   ],
   "source": [
    "# read all phenotype data\n",
    "pheno_data = pd.read_csv('data/Adjusted-means-for-Agronomic-traits-with-race-and-market-calss-info.txt', \n",
    "                         sep='\\t', header=0)\n",
    "pheno_data.head()"
   ]
  },
  {
   "cell_type": "markdown",
   "metadata": {},
   "source": [
    "## Averaged data across locations\n",
    "For a preliminary understanding of the feasibility of the approach and the best alogirhtms I will first use days to flowering (DF) and days to maturity (DM) averaged across all the locations. I will compare thre different regression models for this analysis. Since the ElasticNet and Lasso are more sensitive to hyper-parameters optimization I will use a 10 fold cross-validation on the train set for those two algorithms. Instead for the R\n",
    "#### Days to flowering (DF)"
   ]
  },
  {
   "cell_type": "code",
   "execution_count": 4,
   "metadata": {},
   "outputs": [
    {
     "data": {
      "image/png": "[encoded data removed]",
      "text/plain": [
       "<matplotlib.figure.Figure at 0x7f2fc7bada20>"
      ]
     },
     "metadata": {},
     "output_type": "display_data"
    }
   ],
   "source": [
    "# extract flowering time\n",
    "df_avg = pheno_data['df']\n",
    "df_avg.hist()\n",
    "plt.title('Average days to flowering')\n",
    "plt.show()"
   ]
  },
  {
   "cell_type": "code",
   "execution_count": 5,
   "metadata": {},
   "outputs": [
    {
     "name": "stdout",
     "output_type": "stream",
     "text": [
      "(224, 243623) (56, 243623)\n"
     ]
    }
   ],
   "source": [
    "# prepare data for machine learning\n",
    "X = final_SNPs.values\n",
    "y = df_avg.values\n",
    "\n",
    "# create train and test dataset\n",
    "from sklearn.model_selection import train_test_split\n",
    "X_train, X_test, y_train, y_test = train_test_split(X, y,\n",
    "                                                   test_size=0.20, random_state=101)\n",
    "print(np.shape(X_train), np.shape(X_test))\n",
    "\n",
    "# prepar EMPTY lists of values for DF\n",
    "MAE=[]\n",
    "R2=[]\n",
    "PCC=[]"
   ]
  },
  {
   "cell_type": "code",
   "execution_count": 6,
   "metadata": {
    "collapsed": true
   },
   "outputs": [],
   "source": [
    "# use ElasticNetCV\n",
    "from sklearn.linear_model import ElasticNetCV\n",
    "\n",
    "EN_CV = ElasticNetCV(l1_ratio=[.1, .25, .5, .75, .9, .99], n_alphas = 100, \n",
    "                     alphas = np.logspace(-4, 2, 7, base=2), \n",
    "                     eps = np.logspace(-4, 2, 7, base=2),\n",
    "                     max_iter=1000, n_jobs=4, cv = 10, random_state=101, \n",
    "                     selection='random', tol = 0.0001)\n",
    "\n",
    "# fit the model\n",
    "EN_CV.fit(X_train, y_train)\n",
    "y_pred = EN_CV.predict(X_test)\n",
    "# append result for final comparison\n",
    "MAE.append(mean_absolute_error(y_test, y_pred))\n",
    "R2.append(r2_score(y_test, y_pred))\n",
    "PCC.append(pearsonr(y_test, y_pred)[0])"
   ]
  },
  {
   "cell_type": "code",
   "execution_count": 7,
   "metadata": {
    "collapsed": true
   },
   "outputs": [],
   "source": [
    "# use LassoCV\n",
    "from sklearn.linear_model import LassoCV\n",
    "\n",
    "lasso_cv = LassoCV(n_alphas = 100, alphas = np.logspace(-4, 2, 7, base=2), \n",
    "                   eps = np.logspace(-4, 2, 7, base=2),\n",
    "                   max_iter=1000, n_jobs=4, cv = 10, random_state=101 )\n",
    "lasso_cv.fit(X_train, y_train)\n",
    "y_pred = lasso_cv.predict(X_test)\n",
    "MAE.append(mean_absolute_error(y_test, y_pred))\n",
    "R2.append(r2_score(y_test, y_pred))\n",
    "PCC.append(pearsonr(y_test, y_pred)[0])"
   ]
  },
  {
   "cell_type": "code",
   "execution_count": 8,
   "metadata": {
    "collapsed": true
   },
   "outputs": [],
   "source": [
    "# use the random forest approach\n",
    "from sklearn.ensemble import RandomForestRegressor\n",
    "\n",
    "rf = RandomForestRegressor(n_estimators = 10000, max_features='sqrt',\n",
    "                          n_jobs=4, random_state = 101)\n",
    "\n",
    "rf.fit(X_train, y_train)\n",
    "y_pred = rf.predict(X_test)\n",
    "MAE.append(mean_absolute_error(y_test, y_pred))\n",
    "R2.append(r2_score(y_test, y_pred))\n",
    "PCC.append(pearsonr(y_test, y_pred)[0])"
   ]
  },
  {
   "cell_type": "code",
   "execution_count": 9,
   "metadata": {},
   "outputs": [
    {
     "data": {
      "text/html": [
       "<div>\n",
       "<table border=\"1\" class=\"dataframe\">\n",
       "  <thead>\n",
       "    <tr style=\"text-align: right;\">\n",
       "      <th></th>\n",
       "      <th>MAE</th>\n",
       "      <th>R2</th>\n",
       "      <th>PCC</th>\n",
       "    </tr>\n",
       "  </thead>\n",
       "  <tbody>\n",
       "    <tr>\n",
       "      <th>Elastic Net</th>\n",
       "      <td>1.303729</td>\n",
       "      <td>0.596259</td>\n",
       "      <td>0.790383</td>\n",
       "    </tr>\n",
       "    <tr>\n",
       "      <th>LASSO</th>\n",
       "      <td>1.368053</td>\n",
       "      <td>0.562620</td>\n",
       "      <td>0.770861</td>\n",
       "    </tr>\n",
       "    <tr>\n",
       "      <th>Random Forest</th>\n",
       "      <td>1.247762</td>\n",
       "      <td>0.647410</td>\n",
       "      <td>0.816749</td>\n",
       "    </tr>\n",
       "  </tbody>\n",
       "</table>\n",
       "</div>"
      ],
      "text/plain": [
       "                    MAE        R2       PCC\n",
       "Elastic Net    1.303729  0.596259  0.790383\n",
       "LASSO          1.368053  0.562620  0.770861\n",
       "Random Forest  1.247762  0.647410  0.816749"
      ]
     },
     "execution_count": 9,
     "metadata": {},
     "output_type": "execute_result"
    }
   ],
   "source": [
    "DF_prediction=pd.DataFrame({'MAE': MAE, 'R2': R2, 'PCC':PCC}, columns=['MAE', 'R2', 'PCC'], \n",
    "                           index=['Elastic Net', 'LASSO', 'Random Forest'])\n",
    "DF_prediction"
   ]
  },
  {
   "cell_type": "markdown",
   "metadata": {
    "collapsed": true
   },
   "source": [
    "Even without hyperparameters optimization the RandomForest algorithms seems to perform slightly better that the other two. Let's how these algorithms will work on days to maturity!!\n",
    "#### Days to maturity (DM)"
   ]
  },
  {
   "cell_type": "code",
   "execution_count": 10,
   "metadata": {},
   "outputs": [
    {
     "data": {
      "image/png": "[encoded data removed]",
      "text/plain": [
       "<matplotlib.figure.Figure at 0x7f3008124be0>"
      ]
     },
     "metadata": {},
     "output_type": "display_data"
    }
   ],
   "source": [
    "# extract flowering time\n",
    "dm_avg = pheno_data['dm']\n",
    "dm_avg.hist()\n",
    "plt.title('Average days to maturity')\n",
    "plt.show()"
   ]
  },
  {
   "cell_type": "code",
   "execution_count": 11,
   "metadata": {},
   "outputs": [
    {
     "name": "stdout",
     "output_type": "stream",
     "text": [
      "(224, 243623) (56, 243623)\n"
     ]
    }
   ],
   "source": [
    "# prepare data for machine learning (again, just for being sure the same data are used)\n",
    "X = final_SNPs.values\n",
    "y = dm_avg.values\n",
    "\n",
    "# create train and test dataset\n",
    "from sklearn.model_selection import train_test_split\n",
    "X_train, X_test, y_train, y_test = train_test_split(X, y,\n",
    "                                                   test_size=0.20, random_state=101)\n",
    "print(np.shape(X_train), np.shape(X_test))\n",
    "\n",
    "# prepar EMPTY lists of values for DF\n",
    "MAE=[]\n",
    "R2=[]\n",
    "PCC=[]"
   ]
  },
  {
   "cell_type": "code",
   "execution_count": 12,
   "metadata": {
    "collapsed": true
   },
   "outputs": [],
   "source": [
    "# use ElasticNetCV\n",
    "from sklearn.linear_model import ElasticNetCV\n",
    "\n",
    "EN_CV = ElasticNetCV(l1_ratio=[.1, .25, .5, .75, .9, .99], n_alphas = 100, \n",
    "                     alphas = np.logspace(-4, 2, 7, base=2), \n",
    "                     eps = np.logspace(-4, 2, 7, base=2),\n",
    "                     max_iter=1000, n_jobs=4, cv = 10, random_state=101, \n",
    "                     selection='random', tol = 0.0001)\n",
    "\n",
    "# fit the model\n",
    "EN_CV.fit(X_train, y_train)\n",
    "y_pred = EN_CV.predict(X_test)\n",
    "# append result for final comparison\n",
    "MAE.append(mean_absolute_error(y_test, y_pred))\n",
    "R2.append(r2_score(y_test, y_pred))\n",
    "PCC.append(pearsonr(y_test, y_pred)[0])"
   ]
  },
  {
   "cell_type": "code",
   "execution_count": 13,
   "metadata": {
    "collapsed": true
   },
   "outputs": [],
   "source": [
    "# use LassoCV\n",
    "from sklearn.linear_model import LassoCV\n",
    "\n",
    "lasso_cv = LassoCV(n_alphas = 100, alphas = np.logspace(-4, 2, 7, base=2), \n",
    "                   eps = np.logspace(-4, 2, 7, base=2),\n",
    "                   max_iter=1000, n_jobs=4, cv = 10, random_state=101 )\n",
    "lasso_cv.fit(X_train, y_train)\n",
    "y_pred = lasso_cv.predict(X_test)\n",
    "MAE.append(mean_absolute_error(y_test, y_pred))\n",
    "R2.append(r2_score(y_test, y_pred))\n",
    "PCC.append(pearsonr(y_test, y_pred)[0])"
   ]
  },
  {
   "cell_type": "code",
   "execution_count": 14,
   "metadata": {
    "collapsed": true
   },
   "outputs": [],
   "source": [
    "# use the random forest approach\n",
    "from sklearn.ensemble import RandomForestRegressor\n",
    "\n",
    "rf = RandomForestRegressor(n_estimators = 10000, max_features='sqrt',\n",
    "                          n_jobs=4, random_state = 101)\n",
    "\n",
    "rf.fit(X_train, y_train)\n",
    "y_pred = rf.predict(X_test)\n",
    "MAE.append(mean_absolute_error(y_test, y_pred))\n",
    "R2.append(r2_score(y_test, y_pred))\n",
    "PCC.append(pearsonr(y_test, y_pred)[0])"
   ]
  },
  {
   "cell_type": "code",
   "execution_count": 15,
   "metadata": {},
   "outputs": [
    {
     "data": {
      "text/html": [
       "<div>\n",
       "<table border=\"1\" class=\"dataframe\">\n",
       "  <thead>\n",
       "    <tr style=\"text-align: right;\">\n",
       "      <th></th>\n",
       "      <th>MAE</th>\n",
       "      <th>R2</th>\n",
       "      <th>PCC</th>\n",
       "    </tr>\n",
       "  </thead>\n",
       "  <tbody>\n",
       "    <tr>\n",
       "      <th>Elastic Net</th>\n",
       "      <td>2.919425</td>\n",
       "      <td>0.162812</td>\n",
       "      <td>0.456494</td>\n",
       "    </tr>\n",
       "    <tr>\n",
       "      <th>LASSO</th>\n",
       "      <td>3.356798</td>\n",
       "      <td>-0.015226</td>\n",
       "      <td>0.362317</td>\n",
       "    </tr>\n",
       "    <tr>\n",
       "      <th>Random Forest</th>\n",
       "      <td>2.955407</td>\n",
       "      <td>0.208676</td>\n",
       "      <td>0.491529</td>\n",
       "    </tr>\n",
       "  </tbody>\n",
       "</table>\n",
       "</div>"
      ],
      "text/plain": [
       "                    MAE        R2       PCC\n",
       "Elastic Net    2.919425  0.162812  0.456494\n",
       "LASSO          3.356798 -0.015226  0.362317\n",
       "Random Forest  2.955407  0.208676  0.491529"
      ]
     },
     "execution_count": 15,
     "metadata": {},
     "output_type": "execute_result"
    }
   ],
   "source": [
    "DM_prediction=pd.DataFrame({'MAE': MAE, 'R2': R2, 'PCC':PCC}, columns=['MAE', 'R2', 'PCC'], \n",
    "                           index=['Elastic Net', 'LASSO', 'Random Forest'])\n",
    "DM_prediction"
   ]
  },
  {
   "cell_type": "code",
   "execution_count": null,
   "metadata": {
    "collapsed": true
   },
   "outputs": [],
   "source": []
  }
 ],
 "metadata": {
  "kernelspec": {
   "display_name": "Python 3",
   "language": "python",
   "name": "python3"
  },
  "language_info": {
   "codemirror_mode": {
    "name": "ipython",
    "version": 3
   },
   "file_extension": ".py",
   "mimetype": "text/x-python",
   "name": "python",
   "nbconvert_exporter": "python",
   "pygments_lexer": "ipython3",
   "version": "3.5.2"
  }
 },
 "nbformat": 4,
 "nbformat_minor": 1
}
